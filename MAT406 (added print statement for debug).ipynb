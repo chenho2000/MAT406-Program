{
  "nbformat": 4,
  "nbformat_minor": 0,
  "metadata": {
    "colab": {
      "name": "MAT406.ipynb",
      "provenance": [],
      "collapsed_sections": []
    },
    "kernelspec": {
      "name": "python3",
      "display_name": "Python 3"
    },
    "language_info": {
      "name": "python"
    }
  },
  "cells": [
    {
      "cell_type": "code",
      "metadata": {
        "id": "bS1Tjt3JhFBB"
      },
      "source": [
        "import numpy as np"
      ],
      "execution_count": null,
      "outputs": []
    },
    {
      "cell_type": "code",
      "metadata": {
        "id": "TCS2pgVInTFU"
      },
      "source": [
        "def removing_dominated_strategies(m):\n",
        "  # matrix size\n",
        "  size = m.shape\n",
        "\n",
        "  # return the matrix if it's already 1x1\n",
        "  if size == (1,1):\n",
        "    return m\n",
        "\n",
        "  # check dominated rows\n",
        "  for i in range(size[0]):\n",
        "    for j in range(i + 1, size[0]):\n",
        "      # compare these two rows\n",
        "      result = (m[i,:] >= m[j,:])\n",
        "      print(size[0])\n",
        "      print(\"checking col\",i+1, \"and\", j+1)\n",
        "      # if each elements in jth row >= to ith row\n",
        "      # this implies that jth row dominate ith row\n",
        "      if np.all(result == 0):\n",
        "        # remove ith row\n",
        "        # and continue looking for other dominated rows/columns\n",
        "        m = np.delete(m,i,0)\n",
        "        print(\"Row {} is (strongly) dominated by Row {}; \\nThe new matrix is \\n{}\".format(i+1,j+1,m))\n",
        "        return removing_dominated_strategies(m)\n",
        "\n",
        "      # if each elements in jth row <= to ith row\n",
        "      # this implies that ith row dominate jth row\n",
        "      if np.all(result == 1):\n",
        "        m = np.delete(m,j,0)\n",
        "        print(\"Row {} is (strongly) dominated by Row {}; \\nThe new matrix is \\n{}\".format(j+1,i+1,m))\n",
        "        return removing_dominated_strategies(m)\n",
        "\n",
        "  # check dominated columns\n",
        "  for i in range(size[1]):\n",
        "    for j in range(i + 1, size[1]):\n",
        "      # compare these two columns\n",
        "      result = (m[:,i] >= m[:,j])\n",
        "      print(size[1])\n",
        "      print(\"checking row\",i+1, \"and\", j+1)\n",
        "      # if each elements in jth column >= to ith column\n",
        "      # this implies that ith column dominate jth column\n",
        "      if np.all(result == 0):\n",
        "        # remove ith row\n",
        "        # and continue looking for other dominated rows/columns\n",
        "        m = np.delete(m,j,1)\n",
        "        print(\"Column {} is (strongly) dominated by Column {}; \\nThe new matrix is \\n{}\".format(j+1,i+1,m))\n",
        "        return removing_dominated_strategies(m)\n",
        "\n",
        "      # if each elements in jth row <= to ith row\n",
        "      # this implies that jth row dominate ith row\n",
        "      if np.all(result == 1):\n",
        "        m = np.delete(m,i,1)\n",
        "        print(\"Column {} is (strongly) dominated by Column {}; \\nThe new matrix is \\n{}\".format(i+1,j+1,m))\n",
        "        return removing_dominated_strategies(m)\n",
        "  # if no dominated rows/column found\n",
        "  return \n",
        "\n",
        "  "
      ],
      "execution_count": null,
      "outputs": []
    },
    {
      "cell_type": "code",
      "metadata": {
        "id": "ElAZ2tn6vxgK"
      },
      "source": [
        "m1 = np.array([[1,5,-1,3], [3,4,1,-1],[1,-1,0,-2], [-1,0,3,1]])"
      ],
      "execution_count": null,
      "outputs": []
    },
    {
      "cell_type": "code",
      "metadata": {
        "colab": {
          "base_uri": "https://localhost:8080/"
        },
        "id": "pBcFpYNgwcQu",
        "outputId": "09e79d33-a33f-4cf7-c490-bfdaa81e774f"
      },
      "source": [
        "print(m1)\n",
        "removing_dominated_strategies(m1)"
      ],
      "execution_count": null,
      "outputs": [
        {
          "output_type": "stream",
          "name": "stdout",
          "text": [
            "[[ 1  5 -1  3]\n",
            " [ 3  4  1 -1]\n",
            " [ 1 -1  0 -2]\n",
            " [-1  0  3  1]]\n",
            "4\n",
            "checking col 1 and 2\n",
            "4\n",
            "checking col 1 and 3\n",
            "4\n",
            "checking col 1 and 4\n",
            "4\n",
            "checking col 2 and 3\n",
            "Row 3 is (strongly) dominated by Row 2; \n",
            "The new matrix is \n",
            "[[ 1  5 -1  3]\n",
            " [ 3  4  1 -1]\n",
            " [-1  0  3  1]]\n",
            "3\n",
            "checking col 1 and 2\n",
            "3\n",
            "checking col 1 and 3\n",
            "3\n",
            "checking col 2 and 3\n",
            "4\n",
            "checking row 1 and 2\n",
            "Column 2 is (strongly) dominated by Column 1; \n",
            "The new matrix is \n",
            "[[ 1 -1  3]\n",
            " [ 3  1 -1]\n",
            " [-1  3  1]]\n",
            "3\n",
            "checking col 1 and 2\n",
            "3\n",
            "checking col 1 and 3\n",
            "3\n",
            "checking col 2 and 3\n",
            "3\n",
            "checking row 1 and 2\n",
            "3\n",
            "checking row 1 and 3\n",
            "3\n",
            "checking row 2 and 3\n"
          ]
        }
      ]
    },
    {
      "cell_type": "code",
      "metadata": {
        "id": "YSh5dM35qP3S"
      },
      "source": [
        "m2 = np.array([[5,4,1,0], [4,3,2,-1],[0,-1,4,3], [1,-2,1,2]])"
      ],
      "execution_count": null,
      "outputs": []
    },
    {
      "cell_type": "code",
      "metadata": {
        "colab": {
          "base_uri": "https://localhost:8080/"
        },
        "id": "69PsJz5KtPVd",
        "outputId": "a09a1caa-8d18-499e-c755-7e066e1e6f0c"
      },
      "source": [
        "print(m2)\n",
        "removing_dominated_strategies(m2)"
      ],
      "execution_count": null,
      "outputs": [
        {
          "output_type": "stream",
          "name": "stdout",
          "text": [
            "[[ 5  4  1  0]\n",
            " [ 4  3  2 -1]\n",
            " [ 0 -1  4  3]\n",
            " [ 1 -2  1  2]]\n",
            "4\n",
            "checking col 1 and 2\n",
            "4\n",
            "checking col 1 and 3\n",
            "4\n",
            "checking col 1 and 4\n",
            "4\n",
            "checking col 2 and 3\n",
            "4\n",
            "checking col 2 and 4\n",
            "4\n",
            "checking col 3 and 4\n",
            "4\n",
            "checking row 1 and 2\n",
            "Column 1 is (strongly) dominated by Column 2; \n",
            "The new matrix is \n",
            "[[ 4  1  0]\n",
            " [ 3  2 -1]\n",
            " [-1  4  3]\n",
            " [-2  1  2]]\n",
            "4\n",
            "checking col 1 and 2\n",
            "4\n",
            "checking col 1 and 3\n",
            "4\n",
            "checking col 1 and 4\n",
            "4\n",
            "checking col 2 and 3\n",
            "4\n",
            "checking col 2 and 4\n",
            "4\n",
            "checking col 3 and 4\n",
            "Row 4 is (strongly) dominated by Row 3; \n",
            "The new matrix is \n",
            "[[ 4  1  0]\n",
            " [ 3  2 -1]\n",
            " [-1  4  3]]\n",
            "3\n",
            "checking col 1 and 2\n",
            "3\n",
            "checking col 1 and 3\n",
            "3\n",
            "checking col 2 and 3\n",
            "3\n",
            "checking row 1 and 2\n",
            "3\n",
            "checking row 1 and 3\n",
            "3\n",
            "checking row 2 and 3\n",
            "Column 2 is (strongly) dominated by Column 3; \n",
            "The new matrix is \n",
            "[[ 4  0]\n",
            " [ 3 -1]\n",
            " [-1  3]]\n",
            "3\n",
            "checking col 1 and 2\n",
            "Row 2 is (strongly) dominated by Row 1; \n",
            "The new matrix is \n",
            "[[ 4  0]\n",
            " [-1  3]]\n",
            "2\n",
            "checking col 1 and 2\n",
            "2\n",
            "checking row 1 and 2\n"
          ]
        }
      ]
    }
  ]
}