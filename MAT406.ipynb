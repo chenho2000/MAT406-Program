{
  "nbformat": 4,
  "nbformat_minor": 0,
  "metadata": {
    "colab": {
      "name": "MAT406.ipynb",
      "provenance": [],
      "collapsed_sections": []
    },
    "kernelspec": {
      "name": "python3",
      "display_name": "Python 3"
    },
    "language_info": {
      "name": "python"
    }
  },
  "cells": [
    {
      "cell_type": "code",
      "metadata": {
        "id": "bS1Tjt3JhFBB"
      },
      "source": [
        "import numpy as np"
      ],
      "execution_count": 127,
      "outputs": []
    },
    {
      "cell_type": "code",
      "metadata": {
        "id": "TCS2pgVInTFU"
      },
      "source": [
        "def removing_dominated_pure_strategies(m):\n",
        "  # matrix size\n",
        "  size = m.shape\n",
        "\n",
        "  # return the matrix if it's already 1x1\n",
        "  if size == (1,1):\n",
        "    return m\n",
        "\n",
        "  # check dominated rows\n",
        "  for i in range(size[0]):\n",
        "    for j in range(i + 1, size[0]):\n",
        "      # compare these two rows\n",
        "      result = (m[i,:] >= m[j,:])\n",
        "\n",
        "      # if each elements in jth row >= to ith row\n",
        "      # this implies that jth row dominate ith row\n",
        "      if np.all(result == 0):\n",
        "        # remove ith row\n",
        "        # and continue looking for other dominated rows/columns\n",
        "        m = np.delete(m,i,0)\n",
        "        print(\"Row {} is (strongly) dominated by Row {}; \\nThe new matrix is \\n{}\".format(i+1,j+1,m))\n",
        "        return removing_dominated_strategies(m)\n",
        "\n",
        "      # if each elements in jth row <= to ith row\n",
        "      # this implies that ith row dominate jth row\n",
        "      if np.all(result == 1):\n",
        "        m = np.delete(m,j,0)\n",
        "        print(\"Row {} is (strongly) dominated by Row {}; \\nThe new matrix is \\n{}\".format(j+1,i+1,m))\n",
        "        return removing_dominated_strategies(m)\n",
        "\n",
        "  # check dominated columns\n",
        "  for i in range(size[1]):\n",
        "    for j in range(i + 1, size[1]):\n",
        "      # compare these two columns\n",
        "      result = (m[:,i] >= m[:,j])\n",
        "\n",
        "      # if each elements in jth column >= to ith column\n",
        "      # this implies that ith column dominate jth column\n",
        "      if np.all(result == 0):\n",
        "        # remove ith row\n",
        "        # and continue looking for other dominated rows/columns\n",
        "        m = np.delete(m,j,1)\n",
        "        print(\"Column {} is (strongly) dominated by Column {}; \\nThe new matrix is \\n{}\".format(j+1,i+1,m))\n",
        "        return removing_dominated_strategies(m)\n",
        "\n",
        "      # if each elements in jth row <= to ith row\n",
        "      # this implies that jth row dominate ith row\n",
        "      if np.all(result == 1):\n",
        "        m = np.delete(m,i,1)\n",
        "        print(\"Column {} is (strongly) dominated by Column {}; \\nThe new matrix is \\n{}\".format(i+1,j+1,m))\n",
        "        return removing_dominated_strategies(m)\n",
        "  # if no dominated rows/column found\n",
        "  return \n",
        "\n",
        "  "
      ],
      "execution_count": 128,
      "outputs": []
    },
    {
      "cell_type": "code",
      "metadata": {
        "id": "ElAZ2tn6vxgK"
      },
      "source": [
        "m1 = np.array([[1,5,-1,3], [3,4,1,-1],[1,-1,0,-2], [-1,0,3,1]])"
      ],
      "execution_count": 129,
      "outputs": []
    },
    {
      "cell_type": "code",
      "metadata": {
        "colab": {
          "base_uri": "https://localhost:8080/"
        },
        "id": "pBcFpYNgwcQu",
        "outputId": "4ba8f662-16e4-4de2-9704-f65018bc25bd"
      },
      "source": [
        "print(m1)\n",
        "removing_dominated_pure_strategies(m1)"
      ],
      "execution_count": 130,
      "outputs": [
        {
          "output_type": "stream",
          "name": "stdout",
          "text": [
            "[[ 1  5 -1  3]\n",
            " [ 3  4  1 -1]\n",
            " [ 1 -1  0 -2]\n",
            " [-1  0  3  1]]\n",
            "Row 3 is (strongly) dominated by Row 2; \n",
            "The new matrix is \n",
            "[[ 1  5 -1  3]\n",
            " [ 3  4  1 -1]\n",
            " [-1  0  3  1]]\n",
            "Column 2 is (strongly) dominated by Column 1; \n",
            "The new matrix is \n",
            "[[ 1 -1  3]\n",
            " [ 3  1 -1]\n",
            " [-1  3  1]]\n"
          ]
        }
      ]
    },
    {
      "cell_type": "code",
      "metadata": {
        "id": "YSh5dM35qP3S"
      },
      "source": [
        "m2 = np.array([[5,4,1,0], [4,3,2,-1],[0,-1,4,3], [1,-2,1,2]])"
      ],
      "execution_count": 131,
      "outputs": []
    },
    {
      "cell_type": "code",
      "metadata": {
        "colab": {
          "base_uri": "https://localhost:8080/"
        },
        "id": "69PsJz5KtPVd",
        "outputId": "02286ea6-7b49-405b-fba6-4d69b6dba0cc"
      },
      "source": [
        "print(m2)\n",
        "removing_dominated_pure_strategies(m2)"
      ],
      "execution_count": 132,
      "outputs": [
        {
          "output_type": "stream",
          "name": "stdout",
          "text": [
            "[[ 5  4  1  0]\n",
            " [ 4  3  2 -1]\n",
            " [ 0 -1  4  3]\n",
            " [ 1 -2  1  2]]\n",
            "Column 1 is (strongly) dominated by Column 2; \n",
            "The new matrix is \n",
            "[[ 4  1  0]\n",
            " [ 3  2 -1]\n",
            " [-1  4  3]\n",
            " [-2  1  2]]\n",
            "Row 4 is (strongly) dominated by Row 3; \n",
            "The new matrix is \n",
            "[[ 4  1  0]\n",
            " [ 3  2 -1]\n",
            " [-1  4  3]]\n",
            "Column 2 is (strongly) dominated by Column 3; \n",
            "The new matrix is \n",
            "[[ 4  0]\n",
            " [ 3 -1]\n",
            " [-1  3]]\n",
            "Row 2 is (strongly) dominated by Row 1; \n",
            "The new matrix is \n",
            "[[ 4  0]\n",
            " [-1  3]]\n"
          ]
        }
      ]
    }
  ]
}